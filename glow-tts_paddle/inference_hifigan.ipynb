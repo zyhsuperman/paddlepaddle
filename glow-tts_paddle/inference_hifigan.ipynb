{
 "cells": [
  {
   "cell_type": "code",
   "execution_count": 1,
   "metadata": {},
   "outputs": [],
   "source": [
    "%matplotlib inline\n",
    "import matplotlib.pyplot as plt\n",
    "import IPython.display as ipd\n",
    "\n",
    "import librosa\n",
    "import numpy as np\n",
    "import os\n",
    "import glob\n",
    "import json\n",
    "\n",
    "import paddle\n",
    "from text import text_to_sequence, cmudict\n",
    "from text.symbols import symbols\n",
    "import commons\n",
    "import attentions\n",
    "import modules\n",
    "import models\n",
    "import utils"
   ]
  },
  {
   "cell_type": "code",
   "execution_count": 2,
   "metadata": {},
   "outputs": [
    {
     "name": "stderr",
     "output_type": "stream",
     "text": [
      "W1224 21:29:11.853161 2066281 gpu_resources.cc:119] Please NOTE: device: 0, GPU Compute Capability: 6.1, Driver API Version: 11.4, Runtime API Version: 11.2\n",
      "W1224 21:29:11.862488 2066281 gpu_resources.cc:164] device: 0, cuDNN Version: 8.2.\n"
     ]
    },
    {
     "name": "stdout",
     "output_type": "stream",
     "text": [
      "INFO:root:Loaded checkpoint '/home1/zhaoyh/paddlemodel/glow-tts_paddle/checkpoints/pretrained.pdparams' (iteration 0)\n"
     ]
    }
   ],
   "source": [
    "# If you are using your own trained model\n",
    "# model_dir = \"/home1/zhaoyh/audio/glow-tts/checkpoints/pretrained.pth\"\n",
    "# hps = utils.get_hparams_from_dir(model_dir)\n",
    "# checkpoint_path = utils.latest_checkpoint_path(model_dir)\n",
    "\n",
    "# If you are using a provided pretrained model\n",
    "os.environ[\"CUDA_VISIBLE_DEVICES\"] = \"7\"\n",
    "paddle.set_device(\"gpu\")\n",
    "hps = utils.get_hparams_from_file(\"/home1/zhaoyh/audio/glow-tts/configs/base.json\")\n",
    "checkpoint_path = \"/home1/zhaoyh/paddlemodel/glow-tts_paddle/checkpoints/pretrained.pdparams\"\n",
    "\n",
    "model = models.FlowGenerator(\n",
    "    len(symbols) + getattr(hps.data, \"add_blank\", False),\n",
    "    out_channels=hps.data.n_mel_channels,\n",
    "    **hps.model)\n",
    "\n",
    "utils.load_checkpoint(checkpoint_path, model)\n",
    "model.decoder.store_inverse() # do not calcuate jacobians for fast decoding\n",
    "_ = model.eval()\n",
    "\n",
    "cmu_dict = cmudict.CMUDict(hps.data.cmudict_path)"
   ]
  },
  {
   "cell_type": "code",
   "execution_count": 3,
   "metadata": {},
   "outputs": [
    {
     "name": "stdout",
     "output_type": "stream",
     "text": [
      "@G@L@OW1 @T@IY1@T@IY1@EH1@S @IH1@Z @R@IH1@L@IY0 @AO1@S@AH0@M !\n"
     ]
    }
   ],
   "source": [
    "tst_stn = \"Glow TTS is really awesome !\" \n",
    "\n",
    "if getattr(hps.data, \"add_blank\", False):\n",
    "    text_norm = text_to_sequence(tst_stn.strip(), ['english_cleaners'], cmu_dict)\n",
    "    text_norm = commons.intersperse(text_norm, len(symbols))\n",
    "else: # If not using \"add_blank\" option during training, adding spaces at the beginning and the end of utterance improves quality\n",
    "    tst_stn = \" \" + tst_stn.strip() + \" \"\n",
    "    text_norm = text_to_sequence(tst_stn.strip(), ['english_cleaners'], cmu_dict)\n",
    "sequence = np.array(text_norm)[None, :]\n",
    "print(\"\".join([symbols[c] if c < len(symbols) else \"<BNK>\" for c in sequence[0]]))\n",
    "x_tst = paddle.to_tensor(sequence).astype('int64') \n",
    "x_tst_lengths = paddle.to_tensor([x_tst.shape[1]])"
   ]
  },
  {
   "cell_type": "code",
   "execution_count": 4,
   "metadata": {},
   "outputs": [],
   "source": [
    "with paddle.no_grad():\n",
    "  noise_scale = .667\n",
    "  length_scale = 1.0\n",
    "  (y_gen_tst, *_), *_, (attn_gen, *_) = model(x_tst, x_tst_lengths, gen=True, noise_scale=noise_scale, length_scale=length_scale)\n",
    "\n",
    "# save mel-frames\n",
    "if not os.path.exists('./hifigan/test_mel_files'):\n",
    "    os.makedirs('./hifigan/test_mel_files')\n",
    "np.save(\"./hifigan/test_mel_files/sample.npy\", y_gen_tst.cpu().numpy())"
   ]
  },
  {
   "cell_type": "code",
   "execution_count": 5,
   "metadata": {},
   "outputs": [
    {
     "name": "stdout",
     "output_type": "stream",
     "text": [
      "Initializing Inference Process..\n",
      "W1224 21:29:36.399806 2067621 gpu_resources.cc:119] Please NOTE: device: 0, GPU Compute Capability: 6.1, Driver API Version: 11.4, Runtime API Version: 11.2\n",
      "W1224 21:29:36.406845 2067621 gpu_resources.cc:164] device: 0, cuDNN Version: 8.2.\n",
      "Loading '/home1/zhaoyh/paddlemodel/glow-tts_paddle/checkpoints/LJ_V1/generator_v1.pdparams'\n",
      "Complete.\n",
      "Removing weight norm...\n",
      "generated_files_from_mel/sample_generated_e2e.wav\n",
      "\u001b[0m"
     ]
    }
   ],
   "source": [
    "# Use finetuned HiFi-GAN with Tacotron 2, which is provided in the repo of HiFi-GAN.\n",
    "import os\n",
    "os.environ[\"CUDA_VISIBLE_DEVICES\"] = \"7\"\n",
    "!python ./hifigan/inference_e2e.py --checkpoint_file /home1/zhaoyh/paddlemodel/glow-tts_paddle/checkpoints/LJ_V1/generator_v1.pdparams"
   ]
  }
 ],
 "metadata": {
  "kernelspec": {
   "display_name": "Python 3",
   "language": "python",
   "name": "python3"
  },
  "language_info": {
   "codemirror_mode": {
    "name": "ipython",
    "version": 3
   },
   "file_extension": ".py",
   "mimetype": "text/x-python",
   "name": "python",
   "nbconvert_exporter": "python",
   "pygments_lexer": "ipython3",
   "version": "3.8.18"
  }
 },
 "nbformat": 4,
 "nbformat_minor": 4
}
